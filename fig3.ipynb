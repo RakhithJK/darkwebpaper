{
 "cells": [
  {
   "cell_type": "code",
   "execution_count": 1,
   "metadata": {
    "button": false,
    "collapsed": true,
    "deletable": true,
    "new_sheet": false,
    "run_control": {
     "read_only": false
    }
   },
   "outputs": [],
   "source": [
    "import json, codecs, sys, csv\n",
    "from pprint import pprint\n",
    "\n",
    "#FILENAMES = ['logs/2015-04-01.log','logs/2015-05-01.log','logs/2015-06-01.log','logs/2015-07-01.log','logs/2015-08-01.log','2015-09-01.log','logs/2015-10-01.log','logs/2015-10-02.log', 'logs/2015-10-03.log', 'logs/2015-10-05.log', 'logs/2015-10-06.log']\n",
    "#FILENAMES = ['logs/2015-04-01.log']\n",
    "\n",
    "\n",
    "reqs = {}\n",
    "traffics = {}"
   ]
  },
  {
   "cell_type": "code",
   "execution_count": 2,
   "metadata": {
    "button": false,
    "collapsed": false,
    "deletable": true,
    "new_sheet": false,
    "run_control": {
     "read_only": false
    }
   },
   "outputs": [
    {
     "name": "stdout",
     "output_type": "stream",
     "text": [
      "\n",
      " Reading logs/2015-04-01.log...\n",
      "XXXXXXXXXXXXXXXX"
     ]
    }
   ],
   "source": [
    "for fname in FILENAMES:\n",
    "    print(\"\\n Reading %s...\" % fname)\n",
    "    sys.stdout.flush()\n",
    "    \n",
    "    with codecs.open(fname, encoding='utf-8') as f:\n",
    "        \n",
    "        for line in f:\n",
    "            try:\n",
    "                pline = json.loads(line)\n",
    "            except json.JSONDecodeError:\n",
    "                sys.stdout.write(\"X\")\n",
    "            else:\n",
    "                host = pline['h']\n",
    "\n",
    "                reqs.setdefault(host,0)\n",
    "                reqs[host] += 1\n",
    "                if 'size' in pline:\n",
    "                    traffics.setdefault(host,0)\n",
    "                    traffics[host] += int(pline['size'])\n",
    "\n",
    "print(\"\\n Done!\")"
   ]
  },
  {
   "cell_type": "code",
   "execution_count": null,
   "metadata": {
    "button": false,
    "collapsed": true,
    "deletable": true,
    "new_sheet": false,
    "run_control": {
     "read_only": false
    }
   },
   "outputs": [],
   "source": [
    "#pprint(z)\n",
    "\n",
    "#sorted_reqs = sorted([ (y,x) for x,y in z.items() ],reverse=True)\n",
    "\n",
    "# make a new dictionary with both the reqs and sum traffics\n",
    "z = { host: (reqs[host],traffics[host]) for host in reqs.keys() }\n",
    "    \n",
    "\n",
    "print(z)"
   ]
  },
  {
   "cell_type": "code",
   "execution_count": null,
   "metadata": {
    "button": false,
    "collapsed": true,
    "deletable": true,
    "new_sheet": false,
    "run_control": {
     "read_only": false
    }
   },
   "outputs": [],
   "source": [
    "#pprint(sorted_z)\n",
    "total = sum([x for x,y in sorted_reqs])\n",
    "print(\"\\ntotal=%s\" % total)\n",
    "\n",
    "with open(\"fig3.csv\", \"w\") as f:\n",
    "    writer = csv.writer(f)\n",
    "    writer.writerows(sorted_z)\n",
    "\n",
    "\n"
   ]
  }
 ],
 "metadata": {
  "kernelspec": {
   "display_name": "Python 3",
   "language": "python",
   "name": "python3"
  },
  "language_info": {
   "codemirror_mode": {
    "name": "ipython",
    "version": 3
   },
   "file_extension": ".py",
   "mimetype": "text/x-python",
   "name": "python",
   "nbconvert_exporter": "python",
   "pygments_lexer": "ipython3",
   "version": "3.5.0"
  }
 },
 "nbformat": 4,
 "nbformat_minor": 0
}
